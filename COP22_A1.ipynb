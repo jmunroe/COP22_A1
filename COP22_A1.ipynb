{
 "cells": [
  {
   "cell_type": "markdown",
   "id": "f83e3e4d",
   "metadata": {},
   "source": [
    "# A1\n",
    "## Instructions\n",
    "### Q1\n",
    "\n",
    "print the world \"cop\" ten time.s"
   ]
  },
  {
   "cell_type": "code",
   "execution_count": null,
   "id": "8f6779b9",
   "metadata": {},
   "outputs": [],
   "source": [
    "# insert your answer here"
   ]
  }
 ],
 "metadata": {
  "kernelspec": {
   "display_name": "Python 3 (ipykernel)",
   "language": "python",
   "name": "python3"
  },
  "language_info": {
   "codemirror_mode": {
    "name": "ipython",
    "version": 3
   },
   "file_extension": ".py",
   "mimetype": "text/x-python",
   "name": "python",
   "nbconvert_exporter": "python",
   "pygments_lexer": "ipython3",
   "version": "3.8.13"
  }
 },
 "nbformat": 4,
 "nbformat_minor": 5
}
